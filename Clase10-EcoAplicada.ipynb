{
 "cells": [
  {
   "cell_type": "markdown",
   "metadata": {},
   "source": [
    "* Trabajo\n",
    "* Lectura de la siguiente clase\n",
    "* Examen: corrección\n",
    "    \n",
    "    Trabajo \n",
    "    *20% de la calificación final*\n",
    "    Equipo + presentación\n",
    "    Calificación: desempeño individual y grupal\n",
    "    Presentación: 30 minutos máximo\n",
    "        * Motivación\n",
    "        * Antecedentes\n",
    "        * Hipótesis de trabajo\n",
    "        * Metodología\n",
    "            - Planteamiento del modelo\n",
    "            - Base de datos\n",
    "            - regresión\n",
    "            - Resultados más importantes\n",
    "            - Conclusiones\n",
    "Sigan la lógica del paper. Hay que ser exhaustivos en las partes relevantes, eficientes e inteligentes en qué poner y qué no poner. Entregar presentaciones y escrito. Los papers que vinieran en las presentaciones podrán venir en el examen final. El trabajo lo vamos a presentar el 4 de diciembre. \n",
    "\n",
    "Leer [McElroy & Horney (1981)](http://faculty.smu.edu/Millimet/classes/eco7321/papers/mcelroy%20horney.pdf) y [Chiappori (1992)](http://www.jstor.org/stable/2138727?seq=1#page_scan_tab_contents)."
   ]
  },
  {
   "cell_type": "markdown",
   "metadata": {},
   "source": [
    "|Paper 1 | Paper 2 | Paper 3 |\n",
    "|--------|---------|---------|\n",
    "|Gonzalo | Diana   | Lili    |\n",
    "|Raquel  | Alexandra   | Rogelio    |\n",
    "|Alejandro | Zabina   | Jorge    |\n",
    "|Iván | Charly   | Alejandra    |\n",
    "|Luis  | Guillermo   | Carlos Ag    |\n",
    "|Jesús | Belén   | Balam    |\n",
    "|Santiago | Gustavo   | Rebeca    |\n",
    "|Germán | n.a.   | David     |\n"
   ]
  },
  {
   "cell_type": "code",
   "execution_count": null,
   "metadata": {
    "collapsed": true
   },
   "outputs": [],
   "source": []
  }
 ],
 "metadata": {
  "kernelspec": {
   "display_name": "Python 2",
   "language": "python",
   "name": "python2"
  },
  "language_info": {
   "codemirror_mode": {
    "name": "ipython",
    "version": 2
   },
   "file_extension": ".py",
   "mimetype": "text/x-python",
   "name": "python",
   "nbconvert_exporter": "python",
   "pygments_lexer": "ipython2",
   "version": "2.7.10"
  }
 },
 "nbformat": 4,
 "nbformat_minor": 0
}
