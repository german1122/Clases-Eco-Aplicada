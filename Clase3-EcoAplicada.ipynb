{
 "cells": [
  {
   "cell_type": "markdown",
   "metadata": {},
   "source": [
    "#Clase 3 - Eco Aplicada"
   ]
  },
  {
   "cell_type": "markdown",
   "metadata": {},
   "source": [
    "##Ashenkten & Heckman - Econometrica (1974)"
   ]
  },
  {
   "cell_type": "markdown",
   "metadata": {},
   "source": [
    "###Modelo:\n",
    "\n",
    "$$Max U[l_m, l_f, X]$$\n",
    "subject to:\n",
    "$$w_m(T-l_m) + w_f[T-l_f] + y = PX$$\n",
    "Así, \n",
    "\n",
    "[3]\n",
    "\n",
    "$$l_i = l_i(P,w_m,w_f, P,Y)$$\n",
    "\n",
    "[4]\n",
    "\n",
    "$$h_i = T-l_i$$\n",
    "\n",
    "De la teoría, \n",
    "\n",
    "[5]$$\\frac{\\partial h_i}{\\partial w_i} = S_{ij} + h_j\\frac{\\partial h_i}{\\partial y}, i = m,f$$\n",
    "\n",
    "[6]$$S_{ii} > 0$$, (efectos sustitución propios: oferta laboral)\n",
    "\n",
    "es decir, un incremento en el ingreso compensado en el salario del miembro de una familia resulta en un incremento en el esfuerzo laboral de ese miembro de la familia. Tenemos la restricción de los efectos sustitución cruzados iguales:\n",
    "\n",
    "[7]$$S_{mf} = S_{fm},$$\n",
    "\n",
    "de acuerdo con la teoría, mientras que de acuerdo con la intuición:\n",
    "\n",
    "[9] $$\\frac{\\partial h_i}{\\partial y}  < 0 $$\n",
    "\n",
    "$$\\frac{\\partial h_i}{\\partial w_j}\\gtreqless 0$$"
   ]
  },
  {
   "cell_type": "markdown",
   "metadata": {},
   "source": [
    "Diferenciando [4], $dP = 0$, \n",
    "\n",
    "$$dh_i =\\frac{\\partial h_i}{\\partial w_m} dw_m + \\frac{\\partial h_i}{\\partial w_f}dw_f +\\frac{\\partial h_i}{\\partial y}dy \\Longrightarrow dh_i = S_{im} dw_m + S_{if}dw_f + (h_mdw_m + h_fdw_f + dy)\\frac{\\partial h_i}{\\partial y},$$\n",
    "\n",
    "donde $h_mdw_m + h_fdw_f + dy = dF$ (que se interpreta como el cambio en el ingreso laboral). Su estimación empírica está basada en cambios discretos  finitos. Contexto: censo de la población de EEUU en 1960. Aproximadamente, los cambios como desviaciones discretas del individuo sobre el promedio poblacional: $\\Delta z_i = z_i - \\bar{z}$"
   ]
  },
  {
   "cell_type": "markdown",
   "metadata": {},
   "source": [
    "$df \\Rightarrow \\Delta F$ en la práctica:\n",
    "$$\\Delta F \\equiv \\Delta[h_mw_m] + \\Delta[h_fw_f] + \\Delta y,$$\n",
    "donde el primer término es la desviación enel ingreso laboral del esposo respecto al ingreso laboral promedio de los esposos en la población. El segundo es el caso simétrico.\n"
   ]
  },
  {
   "cell_type": "markdown",
   "metadata": {},
   "source": [
    "El problema con el que se enfrentan los autores es que los errores (del modelo) están correlacionados. Por tanto, el estimador no es asintóticamente eficiente y podría no ser significativo. Modelo:\n",
    "\n",
    "$$\\Delta h_m = S_{mm} \\Delta w_m + S_{mf}\\Delta w_f + \\Delta F\\frac{\\partial h_m}{\\partial y} + X\\beta + \\varepsilon_m,$$\n",
    "\n",
    "$$\\Delta h_f = S_{im} \\Delta w_m + S_{ff}\\Delta w_f + \\Delta F\\frac{\\partial h_f}{\\partial y} + X\\beta + \\varepsilon_m,$$\n",
    "\n",
    "De lo anterior, sabemos lo siguiente:\n",
    "$$\\mathbb{E}[\\varepsilon_m \\varepsilon_f] \\neq 0$$\n",
    "$\\mathbb{E}[\\Delta w \\varepsilon_i] = 0$, ya que es precio-aceptante, mientras que $\\mathbb{E}[\\Delta F \\varepsilon_i] \\neq 0$, por construcción. Por lo tanto, no podemos utilizar OLS.\n",
    "\n"
   ]
  },
  {
   "cell_type": "markdown",
   "metadata": {},
   "source": [
    "###Primera etapa\n",
    "[13]\n",
    "$$\\Delta F_m = \\alpha^m + \\Pi_1^m\\Delta w_m + \\Pi_2^m w_f + \\Pi_3^m X + \\Pi_4^m Z + U_m   $$\n",
    "$$\\Delta F_f = \\alpha^f + \\Pi_1^f\\Delta w_f + \\Pi_2^f w_f + \\Pi_3^f X + \\Pi_4^f Z + U_f $$\n",
    "$\\mathbb{E}[Z, u_i] = 0$, donde $Z \\equiv instrumentos identificados$.\n",
    "De acuerdo con lo anterior, en la primera etapa corremos por separado y encontramos $\\Delta\\hat{F_m},$ $\\Delta\\hat{F_f}$.\n"
   ]
  },
  {
   "cell_type": "markdown",
   "metadata": {},
   "source": [
    "###Segunda etapa\n",
    "$$\\Delta h_m = \\alpha_0^m + \\beta_{mm}\\Delta w_m + \\beta_{mf}\\Delta w_f + \\beta_y \\Delta \\hat{F}_m + X\\beta_x + \\varepsilon_m$$\n",
    "$$\\Delta h_f = \\alpha_0^f + \\gamma_{mm}\\Delta w_m + \\gamma_{mf}\\Delta w_f + \\gamma_y \\Delta \\hat{F}_f + X\\gamma_x + \\varepsilon_f$$"
   ]
  },
  {
   "cell_type": "markdown",
   "metadata": {},
   "source": [
    "Correrlo por separado no agrega información. $\\mathbb{E}[\\varepsilon_m, \\varepsilon_f] \\neq 0$. Para hacerlo eficiente, hay que incluirlo $\\Rightarrow 2SLS_{ponderado} (\\Sigma) = 3SLS$"
   ]
  },
  {
   "cell_type": "markdown",
   "metadata": {},
   "source": [
    "\n",
    "$$\\begin{bmatrix}\n",
    "\\Delta h_m           \\\\[0.3em]\n",
    "  \\Delta h_f\n",
    "     \\end{bmatrix} = \n",
    "     \\begin{bmatrix}\n",
    "\\Delta w_m & \\Delta w_f & \\Delta F_m & X & 0 & 0 & 0 & 0             \\\\[0.3em]\n",
    "0 & 0 & 0 & 0 & \\Delta w_m & \\Delta w_f & \\Delta F_f & X  \n",
    "     \\end{bmatrix}  \\begin{bmatrix}\n",
    " \\beta_{mm}  \\\\[0.3em]\n",
    "\\beta_{fm}  \\\\[0.3em]\n",
    "\\beta_{y}  \\\\[0.3em]\n",
    "\\beta_{x}  \\\\[0.3em]\n",
    "\\gamma_{ff}  \\\\[0.3em]\n",
    "\\gamma_{fm}  \\\\[0.3em]\n",
    "\\gamma_{y}  \\\\[0.3em]\n",
    "\\gamma_{X}  \\\\[0.3em]\n",
    "     \\end{bmatrix}\n",
    "     =\n",
    "     \\begin{bmatrix}\n",
    " \\varepsilon_m           \\\\[0.3em]\n",
    "   \\varepsilon_f\n",
    "     \\end{bmatrix}$$\n"
   ]
  },
  {
   "cell_type": "markdown",
   "metadata": {},
   "source": [
    "$$\\mathbf{Y}= \\mathbf{X\\beta} + \\mathbf{\\varepsilon},$$"
   ]
  },
  {
   "cell_type": "markdown",
   "metadata": {},
   "source": [
    "donde $\\mathbf{Y}$ es de tamaño [2M X 1], $\\mathbf{X\\beta}$ es de [2M X 2K]*[2K X 1] y $\\mathbf{\\varepsilon}$ de [2M X 1]"
   ]
  },
  {
   "cell_type": "markdown",
   "metadata": {},
   "source": [
    "$$\\mathbb{E}[\n",
    "\\varepsilon_m\\varepsilon_f'] = \\mathbb{E}\\Bigg(\\begin{bmatrix}\n",
    "\\varepsilon_m \\\\[0.3em]\n",
    "\\varepsilon_f \n",
    "\\end{bmatrix}\n",
    "\\begin{bmatrix}\n",
    "\\varepsilon_m & \\varepsilon_f \n",
    "\\end{bmatrix}\\Bigg)$$"
   ]
  },
  {
   "cell_type": "markdown",
   "metadata": {},
   "source": [
    "[16]$$\\Sigma = \\begin{bmatrix}\n",
    "\\sigma_1^2 \\mathbf{I} & \\sigma_{12} \\mathbf{I} \\\\[0.3em]\n",
    "\\sigma_{12} \\mathbf{I} & \\sigma_{2}^2 \\mathbf{I}\n",
    "\\end{bmatrix}$$"
   ]
  },
  {
   "cell_type": "markdown",
   "metadata": {},
   "source": [
    "Entre los resultados se encontró que\n",
    "$$H_0: \\beta_{mf} = \\beta_{fm}$$\n",
    "$$H_1: \\beta_{mf} \\neq \\beta_{fm},$$\n",
    "donde se encontró que no se rechaza la hipótesis nula. Por tanto, poblacionalmente hablando, el efecto sustitución cruzado es el mismo. Lo anterior le quita incertidumbre al modelo. El efecto sustitución es más grande que el efecto ingreso, por lo que la oferta sigue teniendo pendiente positiva. Dado lo anterior, el modelo se puede reescribir así:\n"
   ]
  },
  {
   "cell_type": "markdown",
   "metadata": {},
   "source": [
    "\n",
    "$$\\begin{bmatrix}\n",
    "\\Delta h_m           \\\\[0.3em]\n",
    "  \\Delta h_f\n",
    "     \\end{bmatrix} = \n",
    "     \\begin{bmatrix}\n",
    "\\Delta w_m & \\Delta w_f & \\Delta F_m & X  & 0 & 0 & 0             \\\\[0.3em]\n",
    "0 & \\Delta w_m & 0 & 0  & \\Delta w_f & \\Delta F_f & X  \n",
    "     \\end{bmatrix}  \\begin{bmatrix}\n",
    " \\beta_{mm}  \\\\[0.3em]\n",
    "\\beta_{fm}  \\\\[0.3em]\n",
    "\\beta_{y}  \\\\[0.3em]\n",
    "\\beta_{x}  \\\\[0.3em]\n",
    "\\gamma_{ff}  \\\\[0.3em]\n",
    "\\gamma_{fm}  \\\\[0.3em]\n",
    "\\gamma_{y}  \\\\[0.3em]\n",
    "\\gamma_{X}  \\\\[0.3em]\n",
    "     \\end{bmatrix}\n",
    "     =\n",
    "     \\begin{bmatrix}\n",
    " \\varepsilon_m           \\\\[0.3em]\n",
    "   \\varepsilon_f\n",
    "     \\end{bmatrix}$$\n"
   ]
  },
  {
   "cell_type": "markdown",
   "metadata": {},
   "source": [
    "Dado lo anterior, se calcula el nuevo modelo. Entre los resultados, el ocio es un bien normal, ya que el cambio en el ingreso no laboral ($\\Delta F$) obtuvo estimadores negativos para ambos, husband & wife."
   ]
  },
  {
   "cell_type": "markdown",
   "metadata": {},
   "source": [
    "Repasar que es un modelo de probabilidad lineal, un probit, un logit y un tobit."
   ]
  }
 ],
 "metadata": {
  "kernelspec": {
   "display_name": "Python 2",
   "language": "python",
   "name": "python2"
  },
  "language_info": {
   "codemirror_mode": {
    "name": "ipython",
    "version": 2
   },
   "file_extension": ".py",
   "mimetype": "text/x-python",
   "name": "python",
   "nbconvert_exporter": "python",
   "pygments_lexer": "ipython2",
   "version": "2.7.10"
  }
 },
 "nbformat": 4,
 "nbformat_minor": 0
}
