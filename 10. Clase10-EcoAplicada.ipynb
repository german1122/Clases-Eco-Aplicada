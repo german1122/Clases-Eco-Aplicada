{
 "cells": [
  {
   "cell_type": "markdown",
   "metadata": {},
   "source": [
    "* Trabajo\n",
    "* Lectura de la siguiente clase\n",
    "* Examen: corrección\n",
    "    \n",
    "    Trabajo \n",
    "    \n",
    "    *20% de la calificación final*\n",
    "    \n",
    "    Equipo + presentación\n",
    "    \n",
    "    Calificación: desempeño individual y grupal\n",
    "    \n",
    "    Presentación: 30 minutos máximo\n",
    "        * Motivación\n",
    "        * Antecedentes\n",
    "        * Hipótesis de trabajo\n",
    "        * Metodología\n",
    "            - Planteamiento del modelo\n",
    "            - Base de datos\n",
    "            - regresión\n",
    "            - Resultados más importantes\n",
    "            - Conclusiones\n",
    "Sigan la lógica del paper. Hay que ser exhaustivos en las partes relevantes, eficientes e inteligentes en qué poner y qué no poner. Entregar presentaciones y escrito. Los papers que vinieran en las presentaciones podrán venir en el examen final. El trabajo lo vamos a presentar el 4 de diciembre. \n",
    "\n",
    "Leer [McElroy & Horney (1981)](http://faculty.smu.edu/Millimet/classes/eco7321/papers/mcelroy%20horney.pdf) y [Chiappori (1992)](http://www.jstor.org/stable/2138727?seq=1#page_scan_tab_contents)."
   ]
  },
  {
   "cell_type": "markdown",
   "metadata": {},
   "source": [
    "|Rubalcava & Goldman (2008) - \"The Healthy Migrant Effect\" | Parker (2005) - \"Schooling Inequality and Language\" | Rubalcava & Teruel (2009) - \"Investments, Time Preferences…\" |\n",
    "|--------|---------|---------|\n",
    "|Gonzalo | Diana   | Lili    |\n",
    "|Raquel  | Alexandra   | Rogelio    |\n",
    "|Alejandro | Zabina   | Jorge    |\n",
    "|Iván | Charly   | Alejandra    |\n",
    "|Luis  | Guillermo   | Carlos Ag    |\n",
    "|Jesús | Belén   | Balam    |\n",
    "|Santiago | Gustavo   | Rebeca    |\n",
    "|Germán | n.a.   | David     |\n"
   ]
  },
  {
   "cell_type": "markdown",
   "metadata": {},
   "source": [
    "## Solver de Examen parcial"
   ]
  },
  {
   "cell_type": "markdown",
   "metadata": {},
   "source": [
    "1. a) Variable dependiente: $PQ$"
   ]
  },
  {
   "cell_type": "markdown",
   "metadata": {},
   "source": [
    "b) Queremos medir el impacto del programa:\n",
    "\n",
    "$$y = \\alpha + \\theta D_{FIRA} + X\\beta$$\n",
    "\n",
    "$X_1 \\equiv$ Ha Terreno \n",
    "\n",
    "$X_2 \\equiv$ Valor de la maquinaria y equipo \n",
    "\n",
    "$X_3 \\equiv$ número de empleados \n",
    "\n",
    "Tipo de Suelo\n",
    "\n",
    "D Riego\n",
    "\n",
    "Escolaridad\n",
    "\n",
    "(No hay que poner estado civil)\n",
    "\n",
    "Poner una dummy de municipio controla por los efectos fijos de cada municipio, por lo que hay que controlar por esto. \n",
    "\n",
    "$$Y = X_1\\beta_1 + \\ldots + X_4\\beta_4$$\n",
    "Hay que poner cuatro dummies para la variable de calidad de tierra. \n",
    "\n"
   ]
  },
  {
   "cell_type": "markdown",
   "metadata": {},
   "source": [
    "d) Intuición del problema de endogeneidad:\n",
    "Recibir crédito de Fira está correlacionado con $D_{FIRA}$. Intuición: Fira es endóngeno porque está correlacionado con el término de error. Hay un problema de recursividad. El que yo tenga una cosecha más elevado me provocaría más ingreso y, por tanto, más fácil me dan el crédito, pero también se puede argumentar en sentido contrario. No sé cual es la dirección de la causalidad. No hay un tema de selección de muestra aquí. \n"
   ]
  },
  {
   "cell_type": "markdown",
   "metadata": {},
   "source": [
    "2. a) $\\mathbb{E}[Z'\\epsilon] = 0$ & $Z'D_{FIRA} \\neq 0$"
   ]
  },
  {
   "cell_type": "markdown",
   "metadata": {},
   "source": [
    " $Z_{G} = [Escolaridad : Tiempo como gestor : Fracc_{productores} : ]$\n",
    "No hay que incluir localidad en las variables instrumentales. No podemos incluir los efectos fijos por localidad en el modelo y en las variables instrumentales. "
   ]
  },
  {
   "cell_type": "markdown",
   "metadata": {},
   "source": [
    "b) $Z_T = [Z_G : X]$, cinco y cinco. Es decir, hay que incluir todas las variables exógenas.\n",
    "Primera etapa:\n",
    "\n",
    "$$D_{FIRA} =  Z_T\\theta + u$$"
   ]
  },
  {
   "cell_type": "markdown",
   "metadata": {},
   "source": [
    "3. a) Ventajas de precio sombra vs. Tobit\n",
    "1. Puede utilizar diferentes $x's$ y betas. El problema de Tobit es que las x's que me daban el mecanismo de selección son las mismas que las que explican el comportamiento del individuo. Unas x's las utilizamos para determinar el mecanismo de selección y las otras para determinar cuántas horas quiere trabajar el individuo. Nos permite diferenciar el margen extensivo del intensivo. \n",
    "2. Nos permite trabajar con muestras truncadas\n",
    "\n",
    "b) Ventaja de heckit vs. Precios Sombra\n",
    "Heckit no supone una ecuación estructural. "
   ]
  },
  {
   "cell_type": "markdown",
   "metadata": {},
   "source": [
    "4. a) V\n",
    "\n",
    "   b) V\n",
    "   \n",
    "   c) V\n",
    "   \n",
    "   d) F \n",
    "   \n",
    "   Si hay dos bienes, necesariamente son sustitutos, por lo que los efectos sustitución cruzados siempre tendrán signo positivo. "
   ]
  }
 ],
 "metadata": {
  "kernelspec": {
   "display_name": "Python 2",
   "language": "python",
   "name": "python2"
  },
  "language_info": {
   "codemirror_mode": {
    "name": "ipython",
    "version": 2
   },
   "file_extension": ".py",
   "mimetype": "text/x-python",
   "name": "python",
   "nbconvert_exporter": "python",
   "pygments_lexer": "ipython2",
   "version": "2.7.10"
  }
 },
 "nbformat": 4,
 "nbformat_minor": 0
}
